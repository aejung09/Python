{
 "cells": [
  {
   "cell_type": "code",
   "execution_count": 4,
   "metadata": {},
   "outputs": [
    {
     "name": "stdout",
     "output_type": "stream",
     "text": [
      "덧셈: 7\n",
      "제곱: 9\n"
     ]
    }
   ],
   "source": [
    "# 연산자\n",
    "var01=3\n",
    "var02=4\n",
    "print('덧셈:',var01+var02)\n",
    "print('제곱:',var01**2)"
   ]
  },
  {
   "cell_type": "code",
   "execution_count": 9,
   "metadata": {},
   "outputs": [
    {
     "name": "stdout",
     "output_type": "stream",
     "text": [
      "거듭제곱: 9\n",
      "거듭제곱: 9\n",
      "9.0\n"
     ]
    }
   ],
   "source": [
    "# 파이썬 모듈을 이용한 수학계산\n",
    "print('거듭제곱:',var01**2)\n",
    "print('거듭제곱:',pow(var01,2))\n",
    "# 수학 모듈 불러오기\n",
    "import math\n",
    "print(math.pow(var01,2))"
   ]
  },
  {
   "cell_type": "code",
   "execution_count": 10,
   "metadata": {},
   "outputs": [
    {
     "data": {
      "text/plain": [
       "1.7320508075688772"
      ]
     },
     "execution_count": 10,
     "metadata": {},
     "output_type": "execute_result"
    }
   ],
   "source": [
    "# 제곱근\n",
    "math.sqrt(var01)"
   ]
  },
  {
   "cell_type": "code",
   "execution_count": 11,
   "metadata": {},
   "outputs": [
    {
     "data": {
      "text/plain": [
       "0.8509035245341184"
      ]
     },
     "execution_count": 11,
     "metadata": {},
     "output_type": "execute_result"
    }
   ],
   "source": [
    "# sin 45도\n",
    "math.sin(45)"
   ]
  },
  {
   "cell_type": "code",
   "execution_count": 12,
   "metadata": {},
   "outputs": [
    {
     "data": {
      "text/plain": [
       "1.0"
      ]
     },
     "execution_count": 12,
     "metadata": {},
     "output_type": "execute_result"
    }
   ],
   "source": [
    "# sin(45)**2+cos(45)**2\n",
    "math.pow(math.sin(45),2)+math.pow(math.cos(45),2)"
   ]
  },
  {
   "cell_type": "code",
   "execution_count": 13,
   "metadata": {},
   "outputs": [
    {
     "data": {
      "text/plain": [
       "1.0"
      ]
     },
     "execution_count": 13,
     "metadata": {},
     "output_type": "execute_result"
    }
   ],
   "source": [
    "math.sin(45)**2+math.cos(45)**2"
   ]
  },
  {
   "cell_type": "markdown",
   "metadata": {},
   "source": [
    "---\n",
    "# 난수 발생"
   ]
  },
  {
   "cell_type": "code",
   "execution_count": 19,
   "metadata": {},
   "outputs": [],
   "source": [
    "import random # 난수 발생 모듈"
   ]
  },
  {
   "cell_type": "code",
   "execution_count": 23,
   "metadata": {},
   "outputs": [
    {
     "data": {
      "text/plain": [
       "88"
      ]
     },
     "execution_count": 23,
     "metadata": {},
     "output_type": "execute_result"
    }
   ],
   "source": [
    "# 1~100까지의 정수 중 난수 1개 발생\n",
    "random.randint(1,100)"
   ]
  },
  {
   "cell_type": "code",
   "execution_count": 32,
   "metadata": {},
   "outputs": [
    {
     "data": {
      "text/plain": [
       "[20, 43, 8, 10, 39, 6]"
      ]
     },
     "execution_count": 32,
     "metadata": {},
     "output_type": "execute_result"
    }
   ],
   "source": [
    "# 로또 645 번호 획득하기\n",
    "lotto_list = range(1,46)\n",
    "random.sample(lotto_list,6)"
   ]
  },
  {
   "cell_type": "code",
   "execution_count": 25,
   "metadata": {},
   "outputs": [
    {
     "name": "stdout",
     "output_type": "stream",
     "text": [
      "18\n",
      "43\n",
      "31\n",
      "18\n",
      "20\n",
      "39\n",
      "11\n"
     ]
    }
   ],
   "source": [
    "i = 0\n",
    "while i <=6:\n",
    "    i = i + 1\n",
    "    print(random.randint(1,45))"
   ]
  },
  {
   "cell_type": "markdown",
   "metadata": {},
   "source": [
    "---\n",
    "# 반올림"
   ]
  },
  {
   "cell_type": "code",
   "execution_count": 39,
   "metadata": {},
   "outputs": [
    {
     "name": "stdout",
     "output_type": "stream",
     "text": [
      "2\n",
      "4\n",
      "123.5\n",
      "123.46\n"
     ]
    }
   ],
   "source": [
    "print(round(2.5))\n",
    "print(round(3.5))\n",
    "print(round(123.45,1))\n",
    "print(round(123.456,2))"
   ]
  },
  {
   "cell_type": "markdown",
   "metadata": {},
   "source": [
    "# 올림과 내림"
   ]
  },
  {
   "cell_type": "code",
   "execution_count": 43,
   "metadata": {},
   "outputs": [
    {
     "name": "stdout",
     "output_type": "stream",
     "text": [
      "2\n",
      "2\n"
     ]
    }
   ],
   "source": [
    "# 올림 \n",
    "print(math.ceil(1.1))\n",
    "print(math.ceil(1.9))"
   ]
  },
  {
   "cell_type": "code",
   "execution_count": 44,
   "metadata": {},
   "outputs": [
    {
     "name": "stdout",
     "output_type": "stream",
     "text": [
      "1\n",
      "1\n"
     ]
    }
   ],
   "source": [
    "# 내림\n",
    "print(math.floor(1.1))\n",
    "print(math.floor(1.9))"
   ]
  },
  {
   "cell_type": "markdown",
   "metadata": {},
   "source": [
    "---\n",
    "# 메모리에 있는 변수 보기"
   ]
  },
  {
   "cell_type": "code",
   "execution_count": null,
   "metadata": {},
   "outputs": [],
   "source": []
  },
  {
   "cell_type": "code",
   "execution_count": 45,
   "metadata": {},
   "outputs": [
    {
     "ename": "NameError",
     "evalue": "name 'var01' is not defined",
     "output_type": "error",
     "traceback": [
      "\u001b[0;31m---------------------------------------------------------------------------\u001b[0m",
      "\u001b[0;31mNameError\u001b[0m                                 Traceback (most recent call last)",
      "\u001b[0;32m<ipython-input-45-9150388b1799>\u001b[0m in \u001b[0;36m<module>\u001b[0;34m\u001b[0m\n\u001b[1;32m      1\u001b[0m \u001b[0;31m#메모리에 있는 변수 삭제하기\u001b[0m\u001b[0;34m\u001b[0m\u001b[0;34m\u001b[0m\u001b[0;34m\u001b[0m\u001b[0m\n\u001b[1;32m      2\u001b[0m \u001b[0;32mdel\u001b[0m \u001b[0mvar01\u001b[0m\u001b[0;34m\u001b[0m\u001b[0;34m\u001b[0m\u001b[0m\n\u001b[0;32m----> 3\u001b[0;31m \u001b[0mvar01\u001b[0m\u001b[0;34m\u001b[0m\u001b[0;34m\u001b[0m\u001b[0m\n\u001b[0m",
      "\u001b[0;31mNameError\u001b[0m: name 'var01' is not defined"
     ]
    }
   ],
   "source": [
    "#메모리에 있는 변수 삭제하기\n",
    "del var01\n",
    "var01"
   ]
  },
  {
   "cell_type": "markdown",
   "metadata": {},
   "source": [
    "---\n",
    "# 관계 연산자"
   ]
  },
  {
   "cell_type": "code",
   "execution_count": 46,
   "metadata": {},
   "outputs": [
    {
     "name": "stdout",
     "output_type": "stream",
     "text": [
      "False\n",
      "True\n",
      "True\n",
      "True\n",
      "False\n",
      "False\n"
     ]
    }
   ],
   "source": [
    "num1 = 100\n",
    "num2 = 20\n",
    "print(num1==num2)\n",
    "print(num1 !=num2)\n",
    "print(num1> num2)\n",
    "print(num1>=num2)\n",
    "print(num1 < num2)\n",
    "print(num1 <= num2)"
   ]
  },
  {
   "cell_type": "markdown",
   "metadata": {},
   "source": [
    "# 논리 연산자"
   ]
  },
  {
   "cell_type": "code",
   "execution_count": 47,
   "metadata": {},
   "outputs": [
    {
     "name": "stdout",
     "output_type": "stream",
     "text": [
      "False\n",
      "True\n"
     ]
    }
   ],
   "source": [
    "print((num1>=50)&(num2<=10))\n",
    "print((num1>=50)|(num2<=10))"
   ]
  },
  {
   "cell_type": "code",
   "execution_count": 48,
   "metadata": {},
   "outputs": [
    {
     "data": {
      "text/plain": [
       "False"
      ]
     },
     "execution_count": 48,
     "metadata": {},
     "output_type": "execute_result"
    }
   ],
   "source": [
    "# 부정연산자\n",
    "not(num1>=50)"
   ]
  },
  {
   "cell_type": "markdown",
   "metadata": {},
   "source": [
    "---\n",
    "# 문자열 자료형"
   ]
  },
  {
   "cell_type": "code",
   "execution_count": 49,
   "metadata": {},
   "outputs": [
    {
     "data": {
      "text/plain": [
       "'Hello World!'"
      ]
     },
     "execution_count": 49,
     "metadata": {},
     "output_type": "execute_result"
    }
   ],
   "source": [
    "var01 = 'Hello World!'\n",
    "var01"
   ]
  },
  {
   "cell_type": "code",
   "execution_count": 51,
   "metadata": {},
   "outputs": [
    {
     "name": "stdout",
     "output_type": "stream",
     "text": [
      "\n",
      "    Hello World!\n",
      "    Good to meet you\n",
      "\n"
     ]
    }
   ],
   "source": [
    "# 여러줄의 문자열 출력\n",
    "var01 = \"\"\"\n",
    "    Hello World!\n",
    "    Good to meet you\n",
    "\"\"\"\n",
    "print(var01)"
   ]
  },
  {
   "cell_type": "code",
   "execution_count": 54,
   "metadata": {},
   "outputs": [
    {
     "name": "stdout",
     "output_type": "stream",
     "text": [
      "My father's wife id my mother\n",
      "He says \"I love you\"\n"
     ]
    }
   ],
   "source": [
    "# 쌍따움표와 홑따움표의 사용\n",
    "var01 = \"My father's wife id my mother\"\n",
    "var02 = 'He says \"I love you\"'\n",
    "print(var01)\n",
    "print(var02)"
   ]
  },
  {
   "cell_type": "code",
   "execution_count": 57,
   "metadata": {},
   "outputs": [
    {
     "name": "stdout",
     "output_type": "stream",
     "text": [
      "aaa\n",
      "bbb\n",
      "aaa\tbbb\n"
     ]
    }
   ],
   "source": [
    "# 특수문자를 사용한 출력\n",
    "var03 = 'aaa\\nbbb'\n",
    "var03\n",
    "print(var03)\n",
    "var04 = 'aaa\\tbbb'\n",
    "print(var04)"
   ]
  },
  {
   "cell_type": "code",
   "execution_count": 58,
   "metadata": {},
   "outputs": [
    {
     "name": "stdout",
     "output_type": "stream",
     "text": [
      "Pythonis fun\n",
      "Python is fun\n"
     ]
    }
   ],
   "source": [
    "# 문자열 연산(덧셈)\n",
    "\n",
    "var01 = 'Python'\n",
    "var02 = 'is fun'\n",
    "\n",
    "print(var01+var02)\n",
    "print(var01,var02)"
   ]
  },
  {
   "cell_type": "code",
   "execution_count": 59,
   "metadata": {},
   "outputs": [
    {
     "name": "stdout",
     "output_type": "stream",
     "text": [
      "PythonPythonPython\n"
     ]
    }
   ],
   "source": [
    "# 문자열 연산(곱셈)\n",
    "print(var01*3)"
   ]
  },
  {
   "cell_type": "code",
   "execution_count": 60,
   "metadata": {},
   "outputs": [
    {
     "name": "stdout",
     "output_type": "stream",
     "text": [
      "====================\n",
      "Python\n",
      "====================\n"
     ]
    }
   ],
   "source": [
    "print(\"=\"*20)\n",
    "print(var01)\n",
    "print(\"=\"*20)"
   ]
  },
  {
   "cell_type": "markdown",
   "metadata": {},
   "source": [
    "---\n",
    "# 문자열 indexing과 slicing"
   ]
  },
  {
   "cell_type": "code",
   "execution_count": 69,
   "metadata": {},
   "outputs": [
    {
     "name": "stdout",
     "output_type": "stream",
     "text": [
      "a\n",
      "abc\n",
      "n\n",
      "fghijklmn\n",
      "abcde\n",
      "abc\n",
      "fghijkl\n"
     ]
    }
   ],
   "source": [
    "str01 = 'abcdefghijklmn'\n",
    "print(str01[0])\n",
    "print(str01[0:3]) #0에서 3번째 전꺼\n",
    "print(str01[-1]) #맨뒤에거 \n",
    "print(str01[5:]) #5부터 끝까지\n",
    "print(str01[:5]) #첨부터 5전까지\n",
    "print(str01[0]+str01[1]+str01[2])\n",
    "print(str01[5:-2]) # 뒤에서 2번째꺼 전꺼"
   ]
  },
  {
   "cell_type": "code",
   "execution_count": 70,
   "metadata": {},
   "outputs": [],
   "source": [
    "str01 = \"20201229snow\""
   ]
  },
  {
   "cell_type": "code",
   "execution_count": 76,
   "metadata": {},
   "outputs": [
    {
     "name": "stdout",
     "output_type": "stream",
     "text": [
      "2020 1229 snow\n"
     ]
    }
   ],
   "source": [
    "print(str01[:4],str01[4:8],str01[8:])"
   ]
  },
  {
   "cell_type": "code",
   "execution_count": 77,
   "metadata": {},
   "outputs": [
    {
     "data": {
      "text/plain": [
       "'20201229snow'"
      ]
     },
     "execution_count": 77,
     "metadata": {},
     "output_type": "execute_result"
    }
   ],
   "source": [
    "str01"
   ]
  },
  {
   "cell_type": "code",
   "execution_count": 78,
   "metadata": {},
   "outputs": [
    {
     "ename": "TypeError",
     "evalue": "'str' object does not support item assignment",
     "output_type": "error",
     "traceback": [
      "\u001b[0;31m---------------------------------------------------------------------------\u001b[0m",
      "\u001b[0;31mTypeError\u001b[0m                                 Traceback (most recent call last)",
      "\u001b[0;32m<ipython-input-78-3800dcdfdc96>\u001b[0m in \u001b[0;36m<module>\u001b[0;34m\u001b[0m\n\u001b[0;32m----> 1\u001b[0;31m \u001b[0mstr01\u001b[0m\u001b[0;34m[\u001b[0m\u001b[0;36m3\u001b[0m\u001b[0;34m]\u001b[0m\u001b[0;34m=\u001b[0m\u001b[0;34m'1'\u001b[0m\u001b[0;34m\u001b[0m\u001b[0;34m\u001b[0m\u001b[0m\n\u001b[0m\u001b[1;32m      2\u001b[0m \u001b[0mprint\u001b[0m\u001b[0;34m(\u001b[0m\u001b[0mstr01\u001b[0m\u001b[0;34m)\u001b[0m\u001b[0;34m\u001b[0m\u001b[0;34m\u001b[0m\u001b[0m\n",
      "\u001b[0;31mTypeError\u001b[0m: 'str' object does not support item assignment"
     ]
    }
   ],
   "source": [
    "str01[3]='1'\n",
    "print(str01)"
   ]
  },
  {
   "cell_type": "code",
   "execution_count": 85,
   "metadata": {},
   "outputs": [
    {
     "name": "stdout",
     "output_type": "stream",
     "text": [
      "2021 1229 snow\n"
     ]
    }
   ],
   "source": [
    "#str01 = 2021 1229 snow 로 변경하기\n",
    "print(str01[:3]+'1',str01[4:8],str01[8:])"
   ]
  },
  {
   "cell_type": "markdown",
   "metadata": {},
   "source": [
    "---\n",
    "# 문자열 formatting"
   ]
  },
  {
   "cell_type": "code",
   "execution_count": 86,
   "metadata": {},
   "outputs": [
    {
     "name": "stdout",
     "output_type": "stream",
     "text": [
      "I have 2 apples\n"
     ]
    }
   ],
   "source": [
    "# %d : 정수형 formatting\n",
    "print(\"I have %d apples\"%2)"
   ]
  },
  {
   "cell_type": "code",
   "execution_count": 88,
   "metadata": {},
   "outputs": [
    {
     "name": "stdout",
     "output_type": "stream",
     "text": [
      "I have two apples\n"
     ]
    }
   ],
   "source": [
    "# %s : 문자열 formatting\n",
    "print(\"I have %s apples\"%\"two\")"
   ]
  },
  {
   "cell_type": "code",
   "execution_count": 89,
   "metadata": {},
   "outputs": [
    {
     "name": "stdout",
     "output_type": "stream",
     "text": [
      "I have 2 apples\n"
     ]
    }
   ],
   "source": [
    "number = 2\n",
    "print(\"I have %d apples\"%number)"
   ]
  },
  {
   "cell_type": "code",
   "execution_count": 90,
   "metadata": {},
   "outputs": [
    {
     "name": "stdout",
     "output_type": "stream",
     "text": [
      "I have 2 apples.\n"
     ]
    }
   ],
   "source": [
    "# 혼합형 formatting\n",
    "number =2\n",
    "fruit = 'apples'\n",
    "print(\"I have %d %s.\"%(number,fruit))"
   ]
  },
  {
   "cell_type": "code",
   "execution_count": 92,
   "metadata": {},
   "outputs": [
    {
     "name": "stdout",
     "output_type": "stream",
     "text": [
      "I have 2     apples.\n",
      "I have 2 apples    .\n"
     ]
    }
   ],
   "source": [
    "# 문자열 정렬 \n",
    "print('I have 2 %10s.'%\"apples\")\n",
    "print('I have 2 %-10s.'%\"apples\")"
   ]
  },
  {
   "cell_type": "code",
   "execution_count": 97,
   "metadata": {},
   "outputs": [
    {
     "name": "stdout",
     "output_type": "stream",
     "text": [
      "----+----+\n",
      "3.1416\n",
      "    3.1416\n"
     ]
    }
   ],
   "source": [
    "# %f : 실수형 formatting\n",
    "print(\"----+----+\")\n",
    "print(\"%0.4f\"%3.14159)\n",
    "print(\"%10.4f\"%3.14159)"
   ]
  },
  {
   "cell_type": "markdown",
   "metadata": {},
   "source": [
    "---\n",
    "# 문자열 관련 함수"
   ]
  },
  {
   "cell_type": "code",
   "execution_count": 100,
   "metadata": {},
   "outputs": [
    {
     "name": "stdout",
     "output_type": "stream",
     "text": [
      "3\n",
      "14\n"
     ]
    }
   ],
   "source": [
    "# 문자 count\n",
    "str01 = \"I have a dream\"\n",
    "print(str01.count('a')) # a란 글자 갯수\n",
    "print(len(str01)) #a의 전체 글자수"
   ]
  },
  {
   "cell_type": "code",
   "execution_count": 104,
   "metadata": {},
   "outputs": [
    {
     "name": "stdout",
     "output_type": "stream",
     "text": [
      "5\n",
      "-1\n",
      "I hav\n"
     ]
    }
   ],
   "source": [
    "# 문자 위치 알려주기 -1\n",
    "print(str01.find('e')) \n",
    "print(str01.find('x')) #해당 글자 없음 (-가나옴)\n",
    "print(str01[:str01.find('e')])"
   ]
  },
  {
   "cell_type": "code",
   "execution_count": 107,
   "metadata": {},
   "outputs": [
    {
     "name": "stdout",
     "output_type": "stream",
     "text": [
      "5\n"
     ]
    }
   ],
   "source": [
    "# 문자 위치 알려주기 -2\n",
    "print(str01.index('e'))\n",
    "# print(str01.index('x'))"
   ]
  },
  {
   "cell_type": "code",
   "execution_count": 108,
   "metadata": {},
   "outputs": [
    {
     "data": {
      "text/plain": [
       "'a,b,c,d,e,f'"
      ]
     },
     "execution_count": 108,
     "metadata": {},
     "output_type": "execute_result"
    }
   ],
   "source": [
    "# 문자열 삽입 (join)\n",
    "str01 = \",\"\n",
    "str01.join('abcdef')"
   ]
  },
  {
   "cell_type": "code",
   "execution_count": 109,
   "metadata": {},
   "outputs": [
    {
     "data": {
      "text/plain": [
       "'HI'"
      ]
     },
     "execution_count": 109,
     "metadata": {},
     "output_type": "execute_result"
    }
   ],
   "source": [
    "# 소문자를 대문자로 변환 (upper)\n",
    "str01='hi'\n",
    "str01.upper()"
   ]
  },
  {
   "cell_type": "code",
   "execution_count": 110,
   "metadata": {},
   "outputs": [
    {
     "data": {
      "text/plain": [
       "'hi'"
      ]
     },
     "execution_count": 110,
     "metadata": {},
     "output_type": "execute_result"
    }
   ],
   "source": [
    "# 대문자를 소문자로 변환 (lower)\n",
    "str01 = \"HI\"\n",
    "str01.lower()"
   ]
  },
  {
   "cell_type": "code",
   "execution_count": 111,
   "metadata": {},
   "outputs": [
    {
     "name": "stdout",
     "output_type": "stream",
     "text": [
      "hi    \n",
      "   hi\n",
      "hi\n"
     ]
    }
   ],
   "source": [
    "# 공백 지우기\n",
    "str01 ='   hi    '\n",
    "print(str01.lstrip())#왼쪽공백지우기\n",
    "print(str01.rstrip())#오른쪽 공백 지우기 \n",
    "print(str01.strip())# 양쪽 공백 지우기"
   ]
  },
  {
   "cell_type": "code",
   "execution_count": 112,
   "metadata": {},
   "outputs": [
    {
     "data": {
      "text/plain": [
       "'Life is too short to be unhappy'"
      ]
     },
     "execution_count": 112,
     "metadata": {},
     "output_type": "execute_result"
    }
   ],
   "source": [
    "# 문자열 바꾸기 (replace)\n",
    "str01 = 'Life is too short to be happy'\n",
    "str01.replace('happy','unhappy')"
   ]
  },
  {
   "cell_type": "code",
   "execution_count": 117,
   "metadata": {},
   "outputs": [
    {
     "name": "stdout",
     "output_type": "stream",
     "text": [
      "['Life', 'is', 'too', 'short', 'to', 'be', 'happy']\n",
      "Life\n"
     ]
    }
   ],
   "source": [
    "# 문자열 나누기 (split)\n",
    "list01 = str01.split() # 공백 기준으로 문자열 나누기\n",
    "type(list01)\n",
    "print(list01)\n",
    "print(list01[0])"
   ]
  },
  {
   "cell_type": "code",
   "execution_count": 118,
   "metadata": {},
   "outputs": [
    {
     "data": {
      "text/plain": [
       "['a', 'b', 'c', 'd']"
      ]
     },
     "execution_count": 118,
     "metadata": {},
     "output_type": "execute_result"
    }
   ],
   "source": [
    "str02 = \"a:b:c:d\"\n",
    "str02.split(\":\")"
   ]
  },
  {
   "cell_type": "markdown",
   "metadata": {},
   "source": [
    "---\n",
    "# 날짜형 변환"
   ]
  },
  {
   "cell_type": "code",
   "execution_count": 121,
   "metadata": {},
   "outputs": [],
   "source": [
    "from datetime import datetime, timedelta # 날짜형 모듈 불러오기"
   ]
  },
  {
   "cell_type": "code",
   "execution_count": 122,
   "metadata": {},
   "outputs": [
    {
     "name": "stdout",
     "output_type": "stream",
     "text": [
      "2020-12-25 21:00:00\n"
     ]
    }
   ],
   "source": [
    "time1 = datetime(2020,12,25,21,0,0,0)\n",
    "print(time1)"
   ]
  },
  {
   "cell_type": "code",
   "execution_count": 126,
   "metadata": {},
   "outputs": [
    {
     "name": "stdout",
     "output_type": "stream",
     "text": [
      "2021-01-27 14:07:29.192877\n",
      "32 days, 17:07:29.192877\n"
     ]
    }
   ],
   "source": [
    "# 날짜 계산\n",
    "time2 = datetime.now() #현재 일 시간\n",
    "print(time2)\n",
    "print(time2-time1)"
   ]
  },
  {
   "cell_type": "code",
   "execution_count": 127,
   "metadata": {},
   "outputs": [
    {
     "name": "stdout",
     "output_type": "stream",
     "text": [
      "두 날짜의 차이는 32 일 24750 초\n"
     ]
    }
   ],
   "source": [
    "# 좀 더 편리하게 출력\n",
    "print(\"두 날짜의 차이는\", (time2-time1).days,\"일\",(time1-time2).seconds,\"초\")"
   ]
  },
  {
   "cell_type": "code",
   "execution_count": 130,
   "metadata": {},
   "outputs": [
    {
     "name": "stdout",
     "output_type": "stream",
     "text": [
      "2021-02-01 14:07:29.192877\n",
      "2021-01-24 14:07:29.192877\n",
      "2021-01-28 12:07:29.192877\n"
     ]
    }
   ],
   "source": [
    "# 특정 날짜로부터 시간 계산\n",
    "print(time2+ timedelta(days=5)) # 5일 뒤\n",
    "print(time2+timedelta(days=-3)) # 3일 전\n",
    "\n",
    "#현재 시간 부터 1일뒤의 2시간 전 \n",
    "print(time2+timedelta(days=1,hours=-2))\n"
   ]
  },
  {
   "cell_type": "code",
   "execution_count": null,
   "metadata": {},
   "outputs": [],
   "source": []
  },
  {
   "cell_type": "code",
   "execution_count": null,
   "metadata": {},
   "outputs": [],
   "source": []
  }
 ],
 "metadata": {
  "kernelspec": {
   "display_name": "Python 3",
   "language": "python",
   "name": "python3"
  },
  "language_info": {
   "codemirror_mode": {
    "name": "ipython",
    "version": 3
   },
   "file_extension": ".py",
   "mimetype": "text/x-python",
   "name": "python",
   "nbconvert_exporter": "python",
   "pygments_lexer": "ipython3",
   "version": "3.8.5"
  }
 },
 "nbformat": 4,
 "nbformat_minor": 4
}
