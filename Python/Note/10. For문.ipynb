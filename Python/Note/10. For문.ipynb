{
 "cells": [
  {
   "cell_type": "markdown",
   "metadata": {},
   "source": [
    "# range()\n",
    "range(시작숫자,끝숫자,증가값)"
   ]
  },
  {
   "cell_type": "code",
   "execution_count": 2,
   "metadata": {},
   "outputs": [
    {
     "data": {
      "text/plain": [
       "[1, 2, 3, 4, 5, 6, 7, 8, 9, 10]"
      ]
     },
     "execution_count": 2,
     "metadata": {},
     "output_type": "execute_result"
    }
   ],
   "source": [
    "list(range(1,11))"
   ]
  },
  {
   "cell_type": "code",
   "execution_count": 3,
   "metadata": {},
   "outputs": [
    {
     "data": {
      "text/plain": [
       "[0, 2, 4, 6, 8, 10]"
      ]
     },
     "execution_count": 3,
     "metadata": {},
     "output_type": "execute_result"
    }
   ],
   "source": [
    "list(range(0,11,2))"
   ]
  },
  {
   "cell_type": "code",
   "execution_count": 4,
   "metadata": {},
   "outputs": [
    {
     "data": {
      "text/plain": [
       "[10, 8, 6, 4, 2]"
      ]
     },
     "execution_count": 4,
     "metadata": {},
     "output_type": "execute_result"
    }
   ],
   "source": [
    "list(range(10,0,-2))"
   ]
  },
  {
   "cell_type": "code",
   "execution_count": 5,
   "metadata": {},
   "outputs": [
    {
     "data": {
      "text/plain": [
       "[]"
      ]
     },
     "execution_count": 5,
     "metadata": {},
     "output_type": "execute_result"
    }
   ],
   "source": [
    "list(range(0,10,-2))"
   ]
  },
  {
   "cell_type": "markdown",
   "metadata": {},
   "source": [
    "---\n",
    "# for문"
   ]
  },
  {
   "cell_type": "code",
   "execution_count": 6,
   "metadata": {},
   "outputs": [
    {
     "name": "stdout",
     "output_type": "stream",
     "text": [
      "1\n",
      "2\n",
      "3\n",
      "4\n",
      "5\n",
      "6\n",
      "7\n",
      "8\n",
      "9\n",
      "10\n"
     ]
    }
   ],
   "source": [
    "for i in range(1,11):\n",
    "    print(i)"
   ]
  },
  {
   "cell_type": "code",
   "execution_count": 10,
   "metadata": {},
   "outputs": [
    {
     "name": "stdout",
     "output_type": "stream",
     "text": [
      "01234"
     ]
    }
   ],
   "source": [
    "for i in range(5):\n",
    "    print(i,end=\"\")"
   ]
  },
  {
   "cell_type": "code",
   "execution_count": 9,
   "metadata": {},
   "outputs": [
    {
     "name": "stdout",
     "output_type": "stream",
     "text": [
      " 1 : 1.00000000\n",
      " 2 : 1.41421356\n",
      " 3 : 1.73205081\n",
      " 4 : 2.00000000\n",
      " 5 : 2.23606798\n",
      " 6 : 2.44948974\n",
      " 7 : 2.64575131\n",
      " 8 : 2.82842712\n",
      " 9 : 3.00000000\n",
      "10 : 3.16227766\n"
     ]
    }
   ],
   "source": [
    "# 1에서 10까지의 제곱근을 출력하기\n",
    "import math\n",
    "for i in range(1,11):\n",
    "    print(\"%2d : %0.8f\"%(i,math.sqrt(i)))"
   ]
  },
  {
   "cell_type": "code",
   "execution_count": 21,
   "metadata": {},
   "outputs": [
    {
     "name": "stdout",
     "output_type": "stream",
     "text": [
      "\n",
      "2 4 6 8 10 12 14 16 18 \n",
      "3 6 9 12 15 18 21 24 27 \n",
      "4 8 12 16 20 24 28 32 36 \n",
      "5 10 15 20 25 30 35 40 45 \n",
      "6 12 18 24 30 36 42 48 54 \n",
      "7 14 21 28 35 42 49 56 63 \n",
      "8 16 24 32 40 48 56 64 72 \n",
      "9 18 27 36 45 54 63 72 81 "
     ]
    }
   ],
   "source": [
    "# 구구단 결과만 출력하기\n",
    "for i in range(2,10):\n",
    "    print(\"\")\n",
    "    for k in range(1,10):\n",
    "        print(i*k,end=\" \")"
   ]
  },
  {
   "cell_type": "markdown",
   "metadata": {},
   "source": [
    "---\n",
    "## for 문에 list 사용하기"
   ]
  },
  {
   "cell_type": "code",
   "execution_count": 22,
   "metadata": {},
   "outputs": [
    {
     "name": "stdout",
     "output_type": "stream",
     "text": [
      "one\n",
      "two\n",
      "three\n"
     ]
    }
   ],
   "source": [
    "test_list=['one','two','three']\n",
    "\n",
    "for i in test_list:\n",
    "    print(i)"
   ]
  },
  {
   "cell_type": "markdown",
   "metadata": {},
   "source": [
    "### for 문에 Tuple사용하기"
   ]
  },
  {
   "cell_type": "code",
   "execution_count": 25,
   "metadata": {},
   "outputs": [
    {
     "name": "stdout",
     "output_type": "stream",
     "text": [
      "1 : 2\n",
      "3 : 4\n",
      "5 : 6\n",
      "3\n",
      "7\n",
      "11\n",
      "21\n"
     ]
    }
   ],
   "source": [
    "# 리스트에 튜플을 함께 사용한 경우\n",
    "var=[(1,2),(3,4),(5,6)]\n",
    "\n",
    "for first,last in var:\n",
    "    print(first,\":\",last)\n",
    "    \n",
    "for first,last in var:\n",
    "    print(first+last)\n",
    "    \n",
    "sum = 0    \n",
    "for first,last in var:\n",
    "    sum = sum+first+last\n",
    "    \n",
    "print(sum)    "
   ]
  },
  {
   "cell_type": "markdown",
   "metadata": {},
   "source": [
    " 총 5명의 학생이 시험을 보았는데 시험점수가 60점을 넘으면 합격이고, 아니면 불합격이다. \n",
    "합격 불합격 결과 보여주기"
   ]
  },
  {
   "cell_type": "code",
   "execution_count": 30,
   "metadata": {},
   "outputs": [
    {
     "name": "stdout",
     "output_type": "stream",
     "text": [
      "1의 학생은 합격 입니다.\n",
      "2의 학생은 불합격 입니다.\n",
      "3의 학생은 합격 입니다.\n",
      "4의 학생은 불합격 입니다.\n",
      "5의 학생은 합격 입니다.\n"
     ]
    }
   ],
   "source": [
    "# 학생번호와 점수를 같이 보여주면서 합격여부 출력하기  \n",
    "    \n",
    "    scores = [90, 25, 67, 45, 80]\n",
    "\n",
    "    for number in range(len(scores)):\n",
    "        if scores[number] >=60:\n",
    "            x = '합격'\n",
    "        else :\n",
    "            x= '불합격'\n",
    "\n",
    "        print(\"%d의 학생은 %s 입니다.\"%(number+1, x))"
   ]
  },
  {
   "cell_type": "code",
   "execution_count": 35,
   "metadata": {},
   "outputs": [
    {
     "name": "stdout",
     "output_type": "stream",
     "text": [
      "1의 학생은 합격\n",
      "2의 학생은 불합격\n",
      "3의 학생은 합격\n",
      "4의 학생은 불합격\n",
      "5의 학생은 합격\n"
     ]
    }
   ],
   "source": [
    "scores = [90,25,67,45,80]\n",
    "count = 1\n",
    "for number in scores:\n",
    "    if(number>=60):\n",
    "        print(\"%d의 학생은 합격\"%count)\n",
    "    else:\n",
    "        print(\"%d의 학생은 불합격\"%count)\n",
    "    count +=1"
   ]
  },
  {
   "cell_type": "code",
   "execution_count": 39,
   "metadata": {},
   "outputs": [
    {
     "name": "stdout",
     "output_type": "stream",
     "text": [
      "1의 학생은 점수가 90이므로 합격 입니다.\n",
      "2의 학생은 점수가 25이므로 불합격 입니다.\n",
      "3의 학생은 점수가 67이므로 합격 입니다.\n",
      "4의 학생은 점수가 45이므로 불합격 입니다.\n",
      "5의 학생은 점수가 80이므로 합격 입니다.\n"
     ]
    }
   ],
   "source": [
    "scores = [90, 25, 67, 45, 80]\n",
    "\n",
    "for number in range(len(scores)):\n",
    "    if scores[number] >=60:\n",
    "        x = '합격'\n",
    "    else :\n",
    "        x = '불합격' \n",
    "    print(\"%d의 학생은 점수가 %d이므로 %s 입니다.\"%(number+1, scores[number], x))"
   ]
  },
  {
   "cell_type": "code",
   "execution_count": 43,
   "metadata": {},
   "outputs": [
    {
     "name": "stdout",
     "output_type": "stream",
     "text": [
      "1의 학생은 90 이므로 합격\n",
      "2의 학생은 25 이어서 불합격\n",
      "3의 학생은 67 이므로 합격\n",
      "4의 학생은 45 이어서 불합격\n",
      "5의 학생은 80 이므로 합격\n"
     ]
    }
   ],
   "source": [
    "scores = [90,25,67,45,80]\n",
    "count = 1\n",
    "for number in scores:\n",
    "    if(number>=60):\n",
    "        print(\"%d의 학생은 %s 이므로 합격\"%(count,number))\n",
    "    else:\n",
    "        print(\"%d의 학생은 %s 이어서 불합격\"%(count,number))\n",
    "    count +=1"
   ]
  },
  {
   "cell_type": "code",
   "execution_count": 3,
   "metadata": {},
   "outputs": [
    {
     "name": "stdout",
     "output_type": "stream",
     "text": [
      "[5, 10, 15, 20]\n"
     ]
    }
   ],
   "source": [
    "# 리스트를 읽어서 처리한 후 새로운 리스트 만들기 \n",
    "\n",
    "datas = [1,2,3,4]\n",
    "newDatas = []\n",
    "\n",
    "for data in datas:\n",
    "    newDatas.append(data*5)\n",
    "    \n",
    "print(newDatas)\n",
    "    "
   ]
  },
  {
   "cell_type": "code",
   "execution_count": 12,
   "metadata": {},
   "outputs": [
    {
     "name": "stdout",
     "output_type": "stream",
     "text": [
      "1의 학생은 합격입니다.\n",
      "3의 학생은 합격입니다.\n",
      "5의 학생은 합격입니다.\n"
     ]
    }
   ],
   "source": [
    "# 시험 점수가 60점이 넘는 학생만 출력하기\n",
    "# 단 합격자 명단 리스트를 만들어서 출력하기\n",
    "\n",
    "scores = [90, 25, 67, 45, 80]\n",
    "number = 0\n",
    "passList=[]\n",
    "\n",
    "student = 0 \n",
    "for score in scores:\n",
    "    student = student + 1\n",
    "    if score >= 60:\n",
    "        print(\"%d의 학생은 합격입니다.\" %student)\n",
    "        continue\n",
    "\n",
    "for pman in passList:\n",
    "    number = number+1\n",
    "    if pman >=60:\n",
    "        print(\"합격자 번호 \\n--------\\n %d\"%passList)\n",
    "        \n",
    "    "
   ]
  },
  {
   "cell_type": "code",
   "execution_count": 17,
   "metadata": {},
   "outputs": [
    {
     "name": "stdout",
     "output_type": "stream",
     "text": [
      " 합격자 번호 \n",
      "——————————\n",
      "    1\n",
      "    3\n",
      "    5\n"
     ]
    }
   ],
   "source": [
    "# 시험 점수가 60점이 넘는 학생만 출력하기\n",
    "# 단 합격자 명단 리스트를 만들어서 출력하기\n",
    "\n",
    "\n",
    "scores = [90,25,67,45,80]\n",
    "number = 0\n",
    "passList = []\n",
    "\n",
    "for score in scores:\n",
    "    if score>=60:\n",
    "         passList.append(scores.index(score) +1 )\n",
    "    else:\n",
    "        continue\n",
    "       \n",
    "    \n",
    "print(\" 합격자 번호 \\n——————————\")     \n",
    "    \n",
    "    \n",
    "for pman in passList :\n",
    "    print('%5s'%pman)"
   ]
  },
  {
   "cell_type": "markdown",
   "metadata": {},
   "source": [
    "----\n",
    "# 파이썬의 listed for문"
   ]
  },
  {
   "cell_type": "code",
   "execution_count": 18,
   "metadata": {},
   "outputs": [
    {
     "name": "stdout",
     "output_type": "stream",
     "text": [
      "[5, 10, 15, 20]\n"
     ]
    }
   ],
   "source": [
    "datas = [1,2,3,4]\n",
    "newDatas = [i *5 for i in datas]\n",
    "print(newDatas)"
   ]
  },
  {
   "cell_type": "code",
   "execution_count": 19,
   "metadata": {},
   "outputs": [
    {
     "name": "stdout",
     "output_type": "stream",
     "text": [
      "[10, 20]\n"
     ]
    }
   ],
   "source": [
    "datas = [1,2,3,4]\n",
    "newDatas = [i *5 for i in datas if i %2==0]\n",
    "print(newDatas)"
   ]
  },
  {
   "cell_type": "code",
   "execution_count": 25,
   "metadata": {},
   "outputs": [
    {
     "name": "stdout",
     "output_type": "stream",
     "text": [
      "[2, 4, 6, 8, 10, 12, 14, 16, 18, 3, 6, 9, 12, 15, 18, 21, 24, 27, 4, 8, 12, 16, 20, 24, 28, 32, 36, 5, 10, 15, 20, 25, 30, 35, 40, 45, 6, 12, 18, 24, 30, 36, 42, 48, 54, 7, 14, 21, 28, 35, 42, 49, 56, 63, 8, 16, 24, 32, 40, 48, 56, 64, 72, 9, 18, 27, 36, 45, 54, 63, 72, 81]\n"
     ]
    }
   ],
   "source": [
    "# 구구단 결과만 리스트로 만들기 (2단~9단)\n",
    "gugu=[ i*k for i in range(2,10) for k in range(1,10)]\n",
    "print(gugu)"
   ]
  },
  {
   "cell_type": "code",
   "execution_count": 28,
   "metadata": {},
   "outputs": [],
   "source": [
    "import numpy as np"
   ]
  },
  {
   "cell_type": "code",
   "execution_count": 30,
   "metadata": {},
   "outputs": [
    {
     "name": "stdout",
     "output_type": "stream",
     "text": [
      "합격한 학생들의 평균점수는 79.00\n"
     ]
    }
   ],
   "source": [
    "# 합격한 학생들의 평균점수 구하기 (합격점:60점 이상)\n",
    "# 평균 : np.mean\n",
    "scores = [90, 25, 67, 45, 80]\n",
    "number = 0 #학생들번호\n",
    "passList = [score for score in scores if score>=60]\n",
    "print(\"합격한 학생들의 평균점수는 %.2f\"%np.mean(passList))\n"
   ]
  },
  {
   "cell_type": "code",
   "execution_count": null,
   "metadata": {},
   "outputs": [],
   "source": []
  },
  {
   "cell_type": "code",
   "execution_count": null,
   "metadata": {},
   "outputs": [],
   "source": []
  },
  {
   "cell_type": "code",
   "execution_count": null,
   "metadata": {},
   "outputs": [],
   "source": []
  },
  {
   "cell_type": "code",
   "execution_count": null,
   "metadata": {},
   "outputs": [],
   "source": []
  },
  {
   "cell_type": "code",
   "execution_count": null,
   "metadata": {},
   "outputs": [],
   "source": []
  }
 ],
 "metadata": {
  "kernelspec": {
   "display_name": "Python 3",
   "language": "python",
   "name": "python3"
  },
  "language_info": {
   "codemirror_mode": {
    "name": "ipython",
    "version": 3
   },
   "file_extension": ".py",
   "mimetype": "text/x-python",
   "name": "python",
   "nbconvert_exporter": "python",
   "pygments_lexer": "ipython3",
   "version": "3.8.5"
  }
 },
 "nbformat": 4,
 "nbformat_minor": 4
}
